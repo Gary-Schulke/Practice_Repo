{
 "cells": [
  {
   "cell_type": "code",
   "execution_count": 1,
   "metadata": {},
   "outputs": [],
   "source": [
    "%matplotlib inline\n",
    "import pandas as pd\n",
    "import numpy as np\n",
    "import matplotlib.pyplot as plt"
   ]
  },
  {
   "cell_type": "code",
   "execution_count": 2,
   "metadata": {},
   "outputs": [],
   "source": [
    "# Load data and convert to a dataframe\n",
    "data_analysis_to_load = \"college_and_crime_cleaned_data.csv\"\n",
    "\n",
    "data_analysis = pd.read_csv(data_analysis_to_load)"
   ]
  },
  {
   "cell_type": "code",
   "execution_count": 6,
   "metadata": {},
   "outputs": [],
   "source": [
    "# Group by race and by year\n",
    "# Calculate the means based on race and year\n",
    "by_race = data_analysis.groupby([\"Race/ethnicity\", \"Year\"]).mean()"
   ]
  },
  {
   "cell_type": "code",
   "execution_count": 14,
   "metadata": {},
   "outputs": [
    {
     "data": {
      "text/html": [
       "<div>\n",
       "<style scoped>\n",
       "    .dataframe tbody tr th:only-of-type {\n",
       "        vertical-align: middle;\n",
       "    }\n",
       "\n",
       "    .dataframe tbody tr th {\n",
       "        vertical-align: top;\n",
       "    }\n",
       "\n",
       "    .dataframe thead th {\n",
       "        text-align: right;\n",
       "    }\n",
       "</style>\n",
       "<table border=\"1\" class=\"dataframe\">\n",
       "  <thead>\n",
       "    <tr style=\"text-align: right;\">\n",
       "      <th>Race/ethnicity</th>\n",
       "      <th>Year</th>\n",
       "      <th>Black, non-Hispanic</th>\n",
       "      <th>Hispanic</th>\n",
       "      <th>Two or more races, non-Hispanic</th>\n",
       "      <th>White, non-Hispanic</th>\n",
       "    </tr>\n",
       "  </thead>\n",
       "  <tbody>\n",
       "    <tr>\n",
       "      <td>0</td>\n",
       "      <td>2000</td>\n",
       "      <td>30.15</td>\n",
       "      <td>21.95</td>\n",
       "      <td>NaN</td>\n",
       "      <td>38.75</td>\n",
       "    </tr>\n",
       "    <tr>\n",
       "      <td>1</td>\n",
       "      <td>2001</td>\n",
       "      <td>31.10</td>\n",
       "      <td>21.75</td>\n",
       "      <td>NaN</td>\n",
       "      <td>39.55</td>\n",
       "    </tr>\n",
       "    <tr>\n",
       "      <td>2</td>\n",
       "      <td>2002</td>\n",
       "      <td>31.60</td>\n",
       "      <td>20.30</td>\n",
       "      <td>NaN</td>\n",
       "      <td>40.85</td>\n",
       "    </tr>\n",
       "    <tr>\n",
       "      <td>3</td>\n",
       "      <td>2003</td>\n",
       "      <td>32.10</td>\n",
       "      <td>23.85</td>\n",
       "      <td>41.50</td>\n",
       "      <td>41.50</td>\n",
       "    </tr>\n",
       "    <tr>\n",
       "      <td>4</td>\n",
       "      <td>2004</td>\n",
       "      <td>31.55</td>\n",
       "      <td>24.95</td>\n",
       "      <td>36.65</td>\n",
       "      <td>41.70</td>\n",
       "    </tr>\n",
       "  </tbody>\n",
       "</table>\n",
       "</div>"
      ],
      "text/plain": [
       "Race/ethnicity  Year  Black, non-Hispanic  Hispanic  \\\n",
       "0               2000                30.15     21.95   \n",
       "1               2001                31.10     21.75   \n",
       "2               2002                31.60     20.30   \n",
       "3               2003                32.10     23.85   \n",
       "4               2004                31.55     24.95   \n",
       "\n",
       "Race/ethnicity  Two or more races, non-Hispanic  White, non-Hispanic  \n",
       "0                                           NaN                38.75  \n",
       "1                                           NaN                39.55  \n",
       "2                                           NaN                40.85  \n",
       "3                                         41.50                41.50  \n",
       "4                                         36.65                41.70  "
      ]
     },
     "execution_count": 14,
     "metadata": {},
     "output_type": "execute_result"
    }
   ],
   "source": [
    "# Transpose the table so that each race is a column\n",
    "by_year_by_race = pd.pivot_table(by_race, index=['Year'], columns = \"Race/ethnicity\")\n",
    "\n",
    "# Create a dataframe with only the mean percent college enrollment\n",
    "rate_by_year_by_race = by_year_by_race[\"per_college_enroll\"]\n",
    "\n",
    "# Reset the index\n",
    "rate_by_year_by_race = rate_by_year_by_race.reset_index()\n",
    "\n",
    "# Print head (check data)\n",
    "rate_by_year_by_race.head()"
   ]
  },
  {
   "cell_type": "code",
   "execution_count": 15,
   "metadata": {},
   "outputs": [
    {
     "data": {
      "text/html": [
       "<div>\n",
       "<style scoped>\n",
       "    .dataframe tbody tr th:only-of-type {\n",
       "        vertical-align: middle;\n",
       "    }\n",
       "\n",
       "    .dataframe tbody tr th {\n",
       "        vertical-align: top;\n",
       "    }\n",
       "\n",
       "    .dataframe thead th {\n",
       "        text-align: right;\n",
       "    }\n",
       "</style>\n",
       "<table border=\"1\" class=\"dataframe\">\n",
       "  <thead>\n",
       "    <tr style=\"text-align: right;\">\n",
       "      <th>Race/ethnicity</th>\n",
       "      <th>Year</th>\n",
       "      <th>Black, non-Hispanic</th>\n",
       "      <th>Hispanic</th>\n",
       "      <th>Two or more races, non-Hispanic</th>\n",
       "      <th>White, non-Hispanic</th>\n",
       "    </tr>\n",
       "  </thead>\n",
       "  <tbody>\n",
       "    <tr>\n",
       "      <td>0</td>\n",
       "      <td>2000</td>\n",
       "      <td>1.695</td>\n",
       "      <td>1.585</td>\n",
       "      <td>NaN</td>\n",
       "      <td>0.800</td>\n",
       "    </tr>\n",
       "    <tr>\n",
       "      <td>1</td>\n",
       "      <td>2001</td>\n",
       "      <td>1.705</td>\n",
       "      <td>1.545</td>\n",
       "      <td>NaN</td>\n",
       "      <td>0.805</td>\n",
       "    </tr>\n",
       "    <tr>\n",
       "      <td>2</td>\n",
       "      <td>2002</td>\n",
       "      <td>1.655</td>\n",
       "      <td>1.340</td>\n",
       "      <td>NaN</td>\n",
       "      <td>0.775</td>\n",
       "    </tr>\n",
       "    <tr>\n",
       "      <td>3</td>\n",
       "      <td>2003</td>\n",
       "      <td>1.685</td>\n",
       "      <td>1.435</td>\n",
       "      <td>5.06</td>\n",
       "      <td>0.775</td>\n",
       "    </tr>\n",
       "    <tr>\n",
       "      <td>4</td>\n",
       "      <td>2004</td>\n",
       "      <td>1.650</td>\n",
       "      <td>1.445</td>\n",
       "      <td>4.86</td>\n",
       "      <td>0.770</td>\n",
       "    </tr>\n",
       "  </tbody>\n",
       "</table>\n",
       "</div>"
      ],
      "text/plain": [
       "Race/ethnicity  Year  Black, non-Hispanic  Hispanic  \\\n",
       "0               2000                1.695     1.585   \n",
       "1               2001                1.705     1.545   \n",
       "2               2002                1.655     1.340   \n",
       "3               2003                1.685     1.435   \n",
       "4               2004                1.650     1.445   \n",
       "\n",
       "Race/ethnicity  Two or more races, non-Hispanic  White, non-Hispanic  \n",
       "0                                           NaN                0.800  \n",
       "1                                           NaN                0.805  \n",
       "2                                           NaN                0.775  \n",
       "3                                          5.06                0.775  \n",
       "4                                          4.86                0.770  "
      ]
     },
     "execution_count": 15,
     "metadata": {},
     "output_type": "execute_result"
    }
   ],
   "source": [
    "# Create a dataframe with only the mean standard errors of percent college enrollment\n",
    "se_rate_by_year_by_race = by_year_by_race[\"SE_college_enroll\"]\n",
    "\n",
    "# Reset the index\n",
    "se_rate_by_year_by_race = se_rate_by_year_by_race.reset_index()\n",
    "\n",
    "# Prin head (check data)\n",
    "se_rate_by_year_by_race.head()"
   ]
  },
  {
   "cell_type": "code",
   "execution_count": 16,
   "metadata": {},
   "outputs": [],
   "source": [
    "# List of the years for the x-axis\n",
    "x_axis_by_year = [2000, 2001, 2002, 2003, 2004, 2005, 2006, 2007, 2008, 2009, 2010, 2011, 2012]"
   ]
  },
  {
   "cell_type": "code",
   "execution_count": 17,
   "metadata": {},
   "outputs": [
    {
     "data": {
      "image/png": "[encoded data removed]",
      "text/plain": [
       "<Figure size 432x288 with 1 Axes>"
      ]
     },
     "metadata": {
      "needs_background": "light"
     },
     "output_type": "display_data"
    }
   ],
   "source": [
    "# Create the plot area\n",
    "fig, ax = plt.subplots()\n",
    "\n",
    "# Plot the mean and standard error for college enrollment based on race\n",
    "ax.errorbar(x_axis_by_year, rate_by_year_by_race[\"Black, non-Hispanic\"], \n",
    "            se_rate_by_year_by_race[\"Black, non-Hispanic\"], linewidth = 0.5, marker = \"s\", \n",
    "            label = \"Black, non-Hispanic\")\n",
    "ax.errorbar(x_axis_by_year, rate_by_year_by_race[\"Hispanic\"], \n",
    "            se_rate_by_year_by_race[\"Hispanic\"], linewidth = 0.5, marker = \"v\", \n",
    "            label = \"Hispanic\")\n",
    "ax.errorbar(x_axis_by_year, rate_by_year_by_race[\"Two or more races, non-Hispanic\"], \n",
    "            se_rate_by_year_by_race[\"Two or more races, non-Hispanic\"], linewidth = 0.5, marker = \"^\", \n",
    "            label = \"Two or more races, non-Hispanic\")\n",
    "ax.errorbar(x_axis_by_year, rate_by_year_by_race[\"White, non-Hispanic\"], \n",
    "            se_rate_by_year_by_race[\"White, non-Hispanic\"], linewidth = 0.5, marker = \"o\", \n",
    "            label = \"White, non-Hispanic\")\n",
    "\n",
    "# Set the x-axis range\n",
    "ax.set_ylim(15, 65)\n",
    "\n",
    "# Label the x- and y-axes\n",
    "ax.set_xlabel(\"Year\")\n",
    "ax.set_ylabel(\"Enrolled in College (%)\")\n",
    "\n",
    "# Label the graph\n",
    "ax.set_title(\"Percent Enrolled in College by Race\")\n",
    "\n",
    "# Place the legend in the best place on the plot and make the font readable\n",
    "plt.legend(loc = \"upper left\", fontsize = \"medium\")\n",
    "\n",
    "# Save the graph\n",
    "plt.savefig(\"../college_enroll_by_race.png\")"
   ]
  },
  {
   "cell_type": "code",
   "execution_count": null,
   "metadata": {},
   "outputs": [],
   "source": []
  }
 ],
 "metadata": {
  "kernelspec": {
   "display_name": "Python 3",
   "language": "python",
   "name": "python3"
  },
  "language_info": {
   "codemirror_mode": {
    "name": "ipython",
    "version": 3
   },
   "file_extension": ".py",
   "mimetype": "text/x-python",
   "name": "python",
   "nbconvert_exporter": "python",
   "pygments_lexer": "ipython3",
   "version": "3.6.9"
  }
 },
 "nbformat": 4,
 "nbformat_minor": 2
}
