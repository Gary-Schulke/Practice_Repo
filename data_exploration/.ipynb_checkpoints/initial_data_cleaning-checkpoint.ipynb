{
 "cells": [
  {
   "cell_type": "code",
   "execution_count": 1,
   "metadata": {},
   "outputs": [],
   "source": [
    "import pandas as pd\n",
    "import numpy as np"
   ]
  },
  {
   "cell_type": "code",
   "execution_count": 2,
   "metadata": {},
   "outputs": [],
   "source": [
    "# Load csv files\n",
    "childhood_violent_crime_to_load = \"../Children-in-households-with-violent-crime_2014_0731_1400.csv\"\n",
    "college_enrollment_to_load = \"../userssharedsdfperc18to24yoenrld24ycsre20002012.csv\"\n",
    "\n",
    "# Create dataframes\n",
    "childhood_violent_crime = pd.read_csv(childhood_violent_crime_to_load)\n",
    "college_enrollment = pd.read_csv(college_enrollment_to_load)"
   ]
  },
  {
   "cell_type": "code",
   "execution_count": 5,
   "metadata": {},
   "outputs": [],
   "source": [
    "# Remove grand total, total for males, and total for females from this analysis\n",
    "childhood_violent_crime_cleaned = childhood_violent_crime.dropna(subset = [\"Sex\", \"Race/ethnicity\"])\n",
    "college_enrollment_cleaned = college_enrollment.dropna(subset = [\"Sex\", \"Race/ethnicity\"])\n",
    "\n",
    "# Remove unwanted columns (i.e. Footnote, Note on Percent, Note on Count)\n",
    "childhood_violent_crime_reduced = childhood_violent_crime_cleaned[[\"Race/ethnicity\", \"Sex\", \"Year\",\n",
    "                                                                  \"Type of violent crime\", \"Percentage\",\n",
    "                                                                  \"Standard Error on Percentage\", \"Count\", \n",
    "                                                                  \"Standard Error on Count\"]]\n",
    "college_enrollment_reduced = college_enrollment_cleaned[[\"Race/ethnicity\", \"Sex\", \"Year\", \"Percentage\", \n",
    "                                                         \"Standard Error on Percentage\", \"Count (in thousands)\", \n",
    "                                                         \"Standard Error on Count (in thousands)\"]]"
   ]
  },
  {
   "cell_type": "code",
   "execution_count": 6,
   "metadata": {},
   "outputs": [],
   "source": [
    "# Merge two dataframes on race, sex, and year\n",
    "child_crime_college_enrol = pd.merge(college_enrollment_reduced, childhood_violent_crime_reduced, \n",
    "                                     on = [\"Race/ethnicity\", \"Sex\", \"Year\"])\n",
    "\n",
    "# Rename columns to reflect the data they represent\n",
    "child_crime_college_enrol = child_crime_college_enrol.rename(columns = {\"Percentage_x\":\"per_college_enroll\", \n",
    "                                                                        \"Standard Error on Percentage_x\":\"SE_college_enroll\", \n",
    "                                                                       \"Count (in thousands)\":\"college_enroll_count_thousands\",\n",
    "                                                                       \"Standard Error on Count (in thousands)\":\"SE_college_enroll_count\",\n",
    "                                                                       \"Percentage_y\":\"per_youth_crime_exposure\",\n",
    "                                                                       \"Standard Error on Percentage_y\":\"SE_per_youth_crime_exposure\",\n",
    "                                                                       \"Count\":\"youth_crime_exposure_count\",\n",
    "                                                                       \"Standard Error on Count\":\"SE_youth_crime_exposure_count\"})"
   ]
  },
  {
   "cell_type": "code",
   "execution_count": 8,
   "metadata": {},
   "outputs": [
    {
     "name": "stderr",
     "output_type": "stream",
     "text": [
      "//anaconda3/envs/PythonData/lib/python3.6/site-packages/ipykernel_launcher.py:7: SettingWithCopyWarning: \n",
      "A value is trying to be set on a copy of a slice from a DataFrame.\n",
      "Try using .loc[row_indexer,col_indexer] = value instead\n",
      "\n",
      "See the caveats in the documentation: http://pandas.pydata.org/pandas-docs/stable/user_guide/indexing.html#returning-a-view-versus-a-copy\n",
      "  import sys\n"
     ]
    },
    {
     "data": {
      "text/html": [
       "<div>\n",
       "<style scoped>\n",
       "    .dataframe tbody tr th:only-of-type {\n",
       "        vertical-align: middle;\n",
       "    }\n",
       "\n",
       "    .dataframe tbody tr th {\n",
       "        vertical-align: top;\n",
       "    }\n",
       "\n",
       "    .dataframe thead th {\n",
       "        text-align: right;\n",
       "    }\n",
       "</style>\n",
       "<table border=\"1\" class=\"dataframe\">\n",
       "  <thead>\n",
       "    <tr style=\"text-align: right;\">\n",
       "      <th></th>\n",
       "      <th>Race/ethnicity</th>\n",
       "      <th>Sex</th>\n",
       "      <th>Year</th>\n",
       "      <th>per_college_enroll</th>\n",
       "      <th>SE_college_enroll</th>\n",
       "      <th>SE_per_youth_crime_exposure</th>\n",
       "      <th>per_youth_crime_exposure</th>\n",
       "      <th>Type of violent crime</th>\n",
       "    </tr>\n",
       "  </thead>\n",
       "  <tbody>\n",
       "    <tr>\n",
       "      <td>0</td>\n",
       "      <td>White, non-Hispanic</td>\n",
       "      <td>Male</td>\n",
       "      <td>2000</td>\n",
       "      <td>36.2</td>\n",
       "      <td>0.79</td>\n",
       "      <td>0.6</td>\n",
       "      <td>6.7</td>\n",
       "      <td>Violent crime</td>\n",
       "    </tr>\n",
       "    <tr>\n",
       "      <td>1</td>\n",
       "      <td>White, non-Hispanic</td>\n",
       "      <td>Male</td>\n",
       "      <td>2000</td>\n",
       "      <td>36.2</td>\n",
       "      <td>0.79</td>\n",
       "      <td>0.3</td>\n",
       "      <td>2.0</td>\n",
       "      <td>Serious violent crime</td>\n",
       "    </tr>\n",
       "    <tr>\n",
       "      <td>2</td>\n",
       "      <td>White, non-Hispanic</td>\n",
       "      <td>Male</td>\n",
       "      <td>2000</td>\n",
       "      <td>36.2</td>\n",
       "      <td>0.79</td>\n",
       "      <td>0.5</td>\n",
       "      <td>5.0</td>\n",
       "      <td>Simple assault</td>\n",
       "    </tr>\n",
       "    <tr>\n",
       "      <td>3</td>\n",
       "      <td>White, non-Hispanic</td>\n",
       "      <td>Male</td>\n",
       "      <td>2001</td>\n",
       "      <td>37.2</td>\n",
       "      <td>0.79</td>\n",
       "      <td>0.5</td>\n",
       "      <td>5.2</td>\n",
       "      <td>Violent crime</td>\n",
       "    </tr>\n",
       "    <tr>\n",
       "      <td>4</td>\n",
       "      <td>White, non-Hispanic</td>\n",
       "      <td>Male</td>\n",
       "      <td>2001</td>\n",
       "      <td>37.2</td>\n",
       "      <td>0.79</td>\n",
       "      <td>0.2</td>\n",
       "      <td>1.6</td>\n",
       "      <td>Serious violent crime</td>\n",
       "    </tr>\n",
       "  </tbody>\n",
       "</table>\n",
       "</div>"
      ],
      "text/plain": [
       "        Race/ethnicity   Sex  Year  per_college_enroll  SE_college_enroll  \\\n",
       "0  White, non-Hispanic  Male  2000                36.2               0.79   \n",
       "1  White, non-Hispanic  Male  2000                36.2               0.79   \n",
       "2  White, non-Hispanic  Male  2000                36.2               0.79   \n",
       "3  White, non-Hispanic  Male  2001                37.2               0.79   \n",
       "4  White, non-Hispanic  Male  2001                37.2               0.79   \n",
       "\n",
       "   SE_per_youth_crime_exposure  per_youth_crime_exposure  \\\n",
       "0                          0.6                       6.7   \n",
       "1                          0.3                       2.0   \n",
       "2                          0.5                       5.0   \n",
       "3                          0.5                       5.2   \n",
       "4                          0.2                       1.6   \n",
       "\n",
       "   Type of violent crime  \n",
       "0          Violent crime  \n",
       "1  Serious violent crime  \n",
       "2         Simple assault  \n",
       "3          Violent crime  \n",
       "4  Serious violent crime  "
      ]
     },
     "execution_count": 8,
     "metadata": {},
     "output_type": "execute_result"
    }
   ],
   "source": [
    "# Remove count data as we will focus on percent \n",
    "for_data_analysis = child_crime_college_enrol[[\"Race/ethnicity\", \"Sex\", \"Year\", \"per_college_enroll\", \n",
    "                                               \"SE_college_enroll\", \"SE_per_youth_crime_exposure\", \n",
    "                                               \"per_youth_crime_exposure\", \"Type of violent crime\"]]\n",
    "\n",
    "# Remove '%' from the percent college enrollment column\n",
    "for_data_analysis[\"per_college_enroll\"] = for_data_analysis.per_college_enroll.str.replace('%', '').astype(float)\n",
    "\n",
    "# Print head (check data)\n",
    "for_data_analysis.head()"
   ]
  },
  {
   "cell_type": "code",
   "execution_count": 9,
   "metadata": {},
   "outputs": [],
   "source": [
    "# Create csv file\n",
    "for_data_analysis.to_csv(\"college_and_crime_cleaned_data.csv\", index=False)"
   ]
  },
  {
   "cell_type": "code",
   "execution_count": null,
   "metadata": {},
   "outputs": [],
   "source": []
  }
 ],
 "metadata": {
  "kernelspec": {
   "display_name": "Python 3",
   "language": "python",
   "name": "python3"
  },
  "language_info": {
   "codemirror_mode": {
    "name": "ipython",
    "version": 3
   },
   "file_extension": ".py",
   "mimetype": "text/x-python",
   "name": "python",
   "nbconvert_exporter": "python",
   "pygments_lexer": "ipython3",
   "version": "3.6.9"
  }
 },
 "nbformat": 4,
 "nbformat_minor": 2
}
